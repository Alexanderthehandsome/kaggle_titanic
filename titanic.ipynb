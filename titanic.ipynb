{
 "cells": [
  {
   "cell_type": "code",
   "execution_count": 44,
   "id": "3daba57c",
   "metadata": {},
   "outputs": [],
   "source": [
    "import math\n",
    "import numpy as np\n",
    "import pandas as pd\n",
    "from sklearn import tree\n",
    "import matplotlib.pyplot as plt"
   ]
  },
  {
   "cell_type": "code",
   "execution_count": 36,
   "id": "d30c6f2d",
   "metadata": {},
   "outputs": [
    {
     "name": "stdout",
     "output_type": "stream",
     "text": [
      "<class 'pandas.core.frame.DataFrame'>\n",
      "RangeIndex: 891 entries, 0 to 890\n",
      "Data columns (total 12 columns):\n",
      " #   Column       Non-Null Count  Dtype  \n",
      "---  ------       --------------  -----  \n",
      " 0   PassengerId  891 non-null    int64  \n",
      " 1   Survived     891 non-null    int64  \n",
      " 2   Pclass       891 non-null    int64  \n",
      " 3   Name         891 non-null    object \n",
      " 4   Sex          891 non-null    object \n",
      " 5   Age          714 non-null    float64\n",
      " 6   SibSp        891 non-null    int64  \n",
      " 7   Parch        891 non-null    int64  \n",
      " 8   Ticket       891 non-null    object \n",
      " 9   Fare         891 non-null    float64\n",
      " 10  Cabin        204 non-null    object \n",
      " 11  Embarked     889 non-null    object \n",
      "dtypes: float64(2), int64(5), object(5)\n",
      "memory usage: 83.7+ KB\n"
     ]
    }
   ],
   "source": [
    "# Load dataset \n",
    "raw_train = pd.read_csv('data/train.csv')\n",
    "raw_train.info()"
   ]
  },
  {
   "cell_type": "code",
   "execution_count": 25,
   "id": "2da1a0f0",
   "metadata": {},
   "outputs": [],
   "source": [
    "## Missing data imputation (Age, Embarked)\n",
    "\n",
    "# Impute age using the average age of one's given pronounciation \n",
    "# Mr., Miss., Master., Mrs., and else (including Don., Rev., Dr., Mlle., Col., Capt.)\n",
    "clean_train = raw_train\n",
    "index_Mr = list()\n",
    "index_Miss = list()\n",
    "index_Master = list()\n",
    "index_Mrs = list()\n",
    "index_else = list()\n",
    "for name in clean_train['Name'].iteritems():\n",
    "    if 'Mr.' in name[1]:\n",
    "        index_Mr.append(name[0])\n",
    "    elif 'Miss.' in name[1]:\n",
    "        index_Miss.append(name[0])\n",
    "    elif 'Master.' in name[1]:\n",
    "        index_Master.append(name[0])\n",
    "    elif 'Mrs.' in name[1]:\n",
    "        index_Mrs.append(name[0])\n",
    "    else:\n",
    "        index_else.append(name[0]) \n",
    "\n",
    "Prefix_Mr = clean_train.loc[index_Mr]\n",
    "Prefix_Miss = clean_train.loc[index_Miss]\n",
    "Prefix_Master = clean_train.loc[index_Master]\n",
    "Prefix_Mrs = clean_train.loc[index_Mrs]\n",
    "Prefix_else = clean_train.loc[index_else]\n",
    "\n",
    "Prefix_Mr['Age'] = Prefix_Mr['Age'].map(lambda x: Prefix_Mr['Age'].mean() if math.isnan(x) else x)\n",
    "Prefix_Miss['Age'] = Prefix_Miss['Age'].map(lambda x: Prefix_Miss['Age'].mean() if math.isnan(x) else x)\n",
    "Prefix_Master['Age'] = Prefix_Master['Age'].map(lambda x: Prefix_Master['Age'].mean() if math.isnan(x) else x)\n",
    "Prefix_Mrs['Age'] = Prefix_Mrs['Age'].map(lambda x: Prefix_Mrs['Age'].mean() if math.isnan(x) else x)\n",
    "Prefix_else['Age'] = Prefix_else['Age'].map(lambda x: Prefix_else['Age'].mean() if math.isnan(x) else x)\n",
    "\n",
    "clean_train.loc[index_Mr] = Prefix_Mr\n",
    "clean_train.loc[index_Miss] = Prefix_Miss\n",
    "clean_train.loc[index_Master] = Prefix_Master\n",
    "clean_train.loc[index_Mrs] = Prefix_Mrs\n",
    "clean_train.loc[index_else] = Prefix_else\n",
    "\n",
    "# Impute Embarked using the most frequent type of Embarked symbol\n",
    "temp = clean_train[clean_train['Embarked'].isna()]\n",
    "temp = temp.assign(Embarked = 'S')\n",
    "clean_train[clean_train['Embarked'].isna()] = temp\n",
    "\n",
    "# Some final data cleaning\n",
    "clean_train = clean_train[['PassengerId', 'Survived', 'Pclass', 'Sex', 'Age', 'SibSp', 'Parch', 'Fare', 'Embarked']]\n",
    "clean_train = clean_train.set_index('PassengerId')\n",
    "# Do feature selection? For reducing the correlation between featrues, \n",
    "# also select the most effective subset of featuers.\n",
    "\n",
    "# Maybe a package in skitlearn that find correlation in features.. Also can calculate the correlation matrix myself"
   ]
  },
  {
   "cell_type": "code",
   "execution_count": 50,
   "id": "3e4361e4",
   "metadata": {
    "scrolled": true
   },
   "outputs": [
    {
     "data": {
      "text/plain": [
       "<matplotlib.legend.Legend at 0x122ea0970>"
      ]
     },
     "execution_count": 50,
     "metadata": {},
     "output_type": "execute_result"
    },
    {
     "data": {
      "image/png": "[encoded data removed]",
      "text/plain": [
       "<Figure size 432x288 with 1 Axes>"
      ]
     },
     "metadata": {
      "needs_background": "light"
     },
     "output_type": "display_data"
    }
   ],
   "source": [
    "## Explanatory variable analysis:\n",
    "# Pclass\n",
    "width = 0.35\n",
    "Pclass1 = clean_train[clean_train['Pclass'] == 1]\n",
    "Pclass1_s = Pclass1[Pclass1['Survived'] == 1]\n",
    "Pclass1_d = Pclass1[Pclass1['Survived'] == 0]\n",
    "\n",
    "Pclass2 = clean_train[clean_train['Pclass'] == 2]\n",
    "Pclass2_s = Pclass2[Pclass2['Survived'] == 1]\n",
    "Pclass2_d = Pclass2[Pclass2['Survived'] == 0]\n",
    "\n",
    "Pclass3 = clean_train[clean_train['Pclass'] == 3]\n",
    "Pclass3_s = Pclass3[Pclass3['Survived'] == 1]\n",
    "Pclass3_d = Pclass3[Pclass3['Survived'] == 0]\n",
    "\n",
    "fig, ax1 = plt.subplots()\n",
    "ax1.bar(range(1, 4), [len(Pclass1_s), len(Pclass2_s), len(Pclass3_s)], width, label = 'Survived')\n",
    "ax1.bar(range(1, 4), [len(Pclass1_d), len(Pclass2_d), len(Pclass3_d)], width, \n",
    "        bottom = [len(Pclass1_s), len(Pclass2_s), len(Pclass3_s)], label = 'Dead')\n",
    "ax1.set_xlabel('Pclass')\n",
    "ax1.set_ylabel('Survival')\n",
    "ax1.set_title('Pclass vs. Survival')\n",
    "ax1.legend()\n",
    "\n",
    "'''\n",
    "The Pclass vs. Survival bar plot shows that the 1st class (Pclass = 1) group has the highest survival rate while\n",
    "the 3rd class group has the lowest survival rate. \n",
    "'''"
   ]
  },
  {
   "cell_type": "code",
   "execution_count": 53,
   "id": "ceb0756e",
   "metadata": {},
   "outputs": [
    {
     "data": {
      "text/plain": [
       "<matplotlib.legend.Legend at 0x12390f640>"
      ]
     },
     "execution_count": 53,
     "metadata": {},
     "output_type": "execute_result"
    },
    {
     "data": {
      "image/png": "[encoded data removed]",
      "text/plain": [
       "<Figure size 432x288 with 1 Axes>"
      ]
     },
     "metadata": {
      "needs_background": "light"
     },
     "output_type": "display_data"
    }
   ],
   "source": [
    "# Sex\n",
    "\n",
    "width = 0.35\n",
    "male = clean_train[clean_train['Sex'] == 'male']\n",
    "male_s = male[male['Survived'] == 1]\n",
    "male_d = male[male['Survived'] == 0]\n",
    "\n",
    "female = clean_train[clean_train['Sex'] == 'female']\n",
    "female_s = female[female['Survived'] == 1]\n",
    "female_d = female[female['Survived'] == 0]\n",
    "\n",
    "fig, ax2 = plt.subplots()\n",
    "ax2.bar(['male', 'female'], [len(male_s), len(female_s)], width, label = 'Survived')\n",
    "ax2.bar(['male', 'female'], [len(male_d), len(female_d)], width, \n",
    "        bottom = [len(male_s), len(female_s)], label = 'Dead')\n",
    "ax2.set_xlabel('Sex')\n",
    "ax2.set_ylabel('Survival')\n",
    "ax2.set_title('Sex vs. Survival')\n",
    "ax2.legend()\n",
    "\n",
    "'''\n",
    "The Sex vs. Survival bar plot shows that male has relatively low survival rate versus female\n",
    "'''"
   ]
  },
  {
   "cell_type": "code",
   "execution_count": 59,
   "id": "2e5309db",
   "metadata": {},
   "outputs": [
    {
     "data": {
      "text/plain": [
       "'\\nThe Sex vs. Survival bar plot shows that male has relatively low survival rate versus female\\n'"
      ]
     },
     "execution_count": 59,
     "metadata": {},
     "output_type": "execute_result"
    },
    {
     "data": {
      "image/png": "[encoded data removed]",
      "text/plain": [
       "<Figure size 432x288 with 2 Axes>"
      ]
     },
     "metadata": {
      "needs_background": "light"
     },
     "output_type": "display_data"
    }
   ],
   "source": [
    "# Age\n",
    "\n",
    "fig, ax3 = plt.subplots(1, 2)\n",
    "survived = clean_train[clean_train['Survived'] == 1]\n",
    "dead = clean_train[clean_train['Survived'] == 0]\n",
    "\n",
    "\n",
    "ax3[0].hist(survived['Age'], label = 'Survivors\\' age distribution')\n",
    "ax3[1].hist(dead['Age'], label = 'Victims\\' age distribution')\n",
    "\n",
    "'''\n",
    "The Sex vs. Survival bar plot shows that male has relatively low survival rate versus female\n",
    "'''"
   ]
  },
  {
   "cell_type": "code",
   "execution_count": 43,
   "id": "d9fd4248",
   "metadata": {},
   "outputs": [
    {
     "name": "stdout",
     "output_type": "stream",
     "text": [
      "<class 'pandas.core.frame.DataFrame'>\n",
      "Int64Index: 891 entries, 1 to 891\n",
      "Data columns (total 8 columns):\n",
      " #   Column    Non-Null Count  Dtype  \n",
      "---  ------    --------------  -----  \n",
      " 0   Survived  891 non-null    int64  \n",
      " 1   Pclass    891 non-null    int64  \n",
      " 2   Sex       891 non-null    object \n",
      " 3   Age       891 non-null    float64\n",
      " 4   SibSp     891 non-null    int64  \n",
      " 5   Parch     891 non-null    int64  \n",
      " 6   Fare      891 non-null    float64\n",
      " 7   Embarked  891 non-null    object \n",
      "dtypes: float64(2), int64(4), object(2)\n",
      "memory usage: 62.6+ KB\n",
      "None\n"
     ]
    }
   ],
   "source": [
    "print(clean_train.info())\n",
    "clean_train.to_csv('data/clean_train.csv')"
   ]
  },
  {
   "cell_type": "code",
   "execution_count": 41,
   "id": "be905030",
   "metadata": {},
   "outputs": [],
   "source": [
    "raw_col = ['Pclass', 'Sex', 'Age', 'SibSp', 'Parch', 'Fare', 'Embarked']\n",
    "train_x = pd.get_dummies(clean_train[raw_col], )\n",
    "x_col = train_x.columns\n",
    "\n",
    "clf = tree.DecisionTreeClassifier()\n",
    "clf = clf.fit(train_x[x_col], clean_train[['Survived']])\n",
    "\n",
    "## TODO:\n",
    "# Divide into train&test set using maybe k-fold\n",
    "# Select the best set of parameters using the test results\n",
    "# Try numeric only first and then add on categorical ones to see if that affects much...\n",
    "# skitlearn.metrics.precision_recall_fscore_support\n",
    "# Use k-fold and calculate accuracy maybe for all folds, then give mean and standard deviation for evaluation sake. "
   ]
  },
  {
   "cell_type": "code",
   "execution_count": 40,
   "id": "a09a0087",
   "metadata": {},
   "outputs": [
    {
     "name": "stdout",
     "output_type": "stream",
     "text": [
      "             Pclass                                          Name     Sex  \\\n",
      "PassengerId                                                                 \n",
      "892               3                              Kelly, Mr. James    male   \n",
      "893               3              Wilkes, Mrs. James (Ellen Needs)  female   \n",
      "894               2                     Myles, Mr. Thomas Francis    male   \n",
      "895               3                              Wirz, Mr. Albert    male   \n",
      "896               3  Hirvonen, Mrs. Alexander (Helga E Lindqvist)  female   \n",
      "...             ...                                           ...     ...   \n",
      "1305              3                            Spector, Mr. Woolf    male   \n",
      "1306              1                  Oliva y Ocana, Dona. Fermina  female   \n",
      "1307              3                  Saether, Mr. Simon Sivertsen    male   \n",
      "1308              3                           Ware, Mr. Frederick    male   \n",
      "1309              3                      Peter, Master. Michael J    male   \n",
      "\n",
      "              Age  SibSp  Parch              Ticket      Fare Cabin Embarked  \n",
      "PassengerId                                                                   \n",
      "892          34.5      0      0              330911    7.8292   NaN        Q  \n",
      "893          47.0      1      0              363272    7.0000   NaN        S  \n",
      "894          62.0      0      0              240276    9.6875   NaN        Q  \n",
      "895          27.0      0      0              315154    8.6625   NaN        S  \n",
      "896          22.0      1      1             3101298   12.2875   NaN        S  \n",
      "...           ...    ...    ...                 ...       ...   ...      ...  \n",
      "1305          NaN      0      0           A.5. 3236    8.0500   NaN        S  \n",
      "1306         39.0      0      0            PC 17758  108.9000  C105        C  \n",
      "1307         38.5      0      0  SOTON/O.Q. 3101262    7.2500   NaN        S  \n",
      "1308          NaN      0      0              359309    8.0500   NaN        S  \n",
      "1309          NaN      1      1                2668   22.3583   NaN        C  \n",
      "\n",
      "[418 rows x 10 columns]\n",
      "<class 'pandas.core.frame.DataFrame'>\n",
      "Int64Index: 418 entries, 892 to 1309\n",
      "Data columns (total 10 columns):\n",
      " #   Column    Non-Null Count  Dtype  \n",
      "---  ------    --------------  -----  \n",
      " 0   Pclass    418 non-null    int64  \n",
      " 1   Name      418 non-null    object \n",
      " 2   Sex       418 non-null    object \n",
      " 3   Age       332 non-null    float64\n",
      " 4   SibSp     418 non-null    int64  \n",
      " 5   Parch     418 non-null    int64  \n",
      " 6   Ticket    418 non-null    object \n",
      " 7   Fare      417 non-null    float64\n",
      " 8   Cabin     91 non-null     object \n",
      " 9   Embarked  418 non-null    object \n",
      "dtypes: float64(2), int64(3), object(5)\n",
      "memory usage: 35.9+ KB\n",
      "None\n"
     ]
    }
   ],
   "source": [
    "# Import data to predict\n",
    "pred_data = pd.read_csv('data/test.csv').set_index('PassengerId')\n",
    "print(pred_data)\n",
    "print(pred_data.info())"
   ]
  },
  {
   "cell_type": "code",
   "execution_count": 42,
   "id": "5c524fd4",
   "metadata": {},
   "outputs": [
    {
     "ename": "ValueError",
     "evalue": "Input contains NaN, infinity or a value too large for dtype('float32').",
     "output_type": "error",
     "traceback": [
      "\u001b[0;31m---------------------------------------------------------------------------\u001b[0m",
      "\u001b[0;31mValueError\u001b[0m                                Traceback (most recent call last)",
      "\u001b[0;32m<ipython-input-42-59d5cb765ba0>\u001b[0m in \u001b[0;36m<module>\u001b[0;34m\u001b[0m\n\u001b[1;32m      1\u001b[0m \u001b[0;31m# Transform data_pred to the same sturcture\u001b[0m\u001b[0;34m\u001b[0m\u001b[0;34m\u001b[0m\u001b[0;34m\u001b[0m\u001b[0m\n\u001b[1;32m      2\u001b[0m \u001b[0mtrans_pred\u001b[0m \u001b[0;34m=\u001b[0m \u001b[0mpd\u001b[0m\u001b[0;34m.\u001b[0m\u001b[0mget_dummies\u001b[0m\u001b[0;34m(\u001b[0m\u001b[0mpred_data\u001b[0m\u001b[0;34m[\u001b[0m\u001b[0mraw_col\u001b[0m\u001b[0;34m]\u001b[0m\u001b[0;34m,\u001b[0m \u001b[0;34m)\u001b[0m\u001b[0;34m\u001b[0m\u001b[0;34m\u001b[0m\u001b[0m\n\u001b[0;32m----> 3\u001b[0;31m \u001b[0mpred_result\u001b[0m \u001b[0;34m=\u001b[0m \u001b[0mclf\u001b[0m\u001b[0;34m.\u001b[0m\u001b[0mpredict\u001b[0m\u001b[0;34m(\u001b[0m\u001b[0mtrans_pred\u001b[0m\u001b[0;34m)\u001b[0m\u001b[0;34m\u001b[0m\u001b[0;34m\u001b[0m\u001b[0m\n\u001b[0m\u001b[1;32m      4\u001b[0m \u001b[0mprint\u001b[0m\u001b[0;34m(\u001b[0m\u001b[0mpred_result\u001b[0m\u001b[0;34m)\u001b[0m\u001b[0;34m\u001b[0m\u001b[0;34m\u001b[0m\u001b[0m\n",
      "\u001b[0;32m~/opt/anaconda3/lib/python3.8/site-packages/sklearn/tree/_classes.py\u001b[0m in \u001b[0;36mpredict\u001b[0;34m(self, X, check_input)\u001b[0m\n\u001b[1;32m    435\u001b[0m         \"\"\"\n\u001b[1;32m    436\u001b[0m         \u001b[0mcheck_is_fitted\u001b[0m\u001b[0;34m(\u001b[0m\u001b[0mself\u001b[0m\u001b[0;34m)\u001b[0m\u001b[0;34m\u001b[0m\u001b[0;34m\u001b[0m\u001b[0m\n\u001b[0;32m--> 437\u001b[0;31m         \u001b[0mX\u001b[0m \u001b[0;34m=\u001b[0m \u001b[0mself\u001b[0m\u001b[0;34m.\u001b[0m\u001b[0m_validate_X_predict\u001b[0m\u001b[0;34m(\u001b[0m\u001b[0mX\u001b[0m\u001b[0;34m,\u001b[0m \u001b[0mcheck_input\u001b[0m\u001b[0;34m)\u001b[0m\u001b[0;34m\u001b[0m\u001b[0;34m\u001b[0m\u001b[0m\n\u001b[0m\u001b[1;32m    438\u001b[0m         \u001b[0mproba\u001b[0m \u001b[0;34m=\u001b[0m \u001b[0mself\u001b[0m\u001b[0;34m.\u001b[0m\u001b[0mtree_\u001b[0m\u001b[0;34m.\u001b[0m\u001b[0mpredict\u001b[0m\u001b[0;34m(\u001b[0m\u001b[0mX\u001b[0m\u001b[0;34m)\u001b[0m\u001b[0;34m\u001b[0m\u001b[0;34m\u001b[0m\u001b[0m\n\u001b[1;32m    439\u001b[0m         \u001b[0mn_samples\u001b[0m \u001b[0;34m=\u001b[0m \u001b[0mX\u001b[0m\u001b[0;34m.\u001b[0m\u001b[0mshape\u001b[0m\u001b[0;34m[\u001b[0m\u001b[0;36m0\u001b[0m\u001b[0;34m]\u001b[0m\u001b[0;34m\u001b[0m\u001b[0;34m\u001b[0m\u001b[0m\n",
      "\u001b[0;32m~/opt/anaconda3/lib/python3.8/site-packages/sklearn/tree/_classes.py\u001b[0m in \u001b[0;36m_validate_X_predict\u001b[0;34m(self, X, check_input)\u001b[0m\n\u001b[1;32m    400\u001b[0m         \u001b[0;34m\"\"\"Validate the training data on predict (probabilities).\"\"\"\u001b[0m\u001b[0;34m\u001b[0m\u001b[0;34m\u001b[0m\u001b[0m\n\u001b[1;32m    401\u001b[0m         \u001b[0;32mif\u001b[0m \u001b[0mcheck_input\u001b[0m\u001b[0;34m:\u001b[0m\u001b[0;34m\u001b[0m\u001b[0;34m\u001b[0m\u001b[0m\n\u001b[0;32m--> 402\u001b[0;31m             X = self._validate_data(X, dtype=DTYPE, accept_sparse=\"csr\",\n\u001b[0m\u001b[1;32m    403\u001b[0m                                     reset=False)\n\u001b[1;32m    404\u001b[0m             if issparse(X) and (X.indices.dtype != np.intc or\n",
      "\u001b[0;32m~/opt/anaconda3/lib/python3.8/site-packages/sklearn/base.py\u001b[0m in \u001b[0;36m_validate_data\u001b[0;34m(self, X, y, reset, validate_separately, **check_params)\u001b[0m\n\u001b[1;32m    419\u001b[0m             \u001b[0mout\u001b[0m \u001b[0;34m=\u001b[0m \u001b[0mX\u001b[0m\u001b[0;34m\u001b[0m\u001b[0;34m\u001b[0m\u001b[0m\n\u001b[1;32m    420\u001b[0m         \u001b[0;32melif\u001b[0m \u001b[0misinstance\u001b[0m\u001b[0;34m(\u001b[0m\u001b[0my\u001b[0m\u001b[0;34m,\u001b[0m \u001b[0mstr\u001b[0m\u001b[0;34m)\u001b[0m \u001b[0;32mand\u001b[0m \u001b[0my\u001b[0m \u001b[0;34m==\u001b[0m \u001b[0;34m'no_validation'\u001b[0m\u001b[0;34m:\u001b[0m\u001b[0;34m\u001b[0m\u001b[0;34m\u001b[0m\u001b[0m\n\u001b[0;32m--> 421\u001b[0;31m             \u001b[0mX\u001b[0m \u001b[0;34m=\u001b[0m \u001b[0mcheck_array\u001b[0m\u001b[0;34m(\u001b[0m\u001b[0mX\u001b[0m\u001b[0;34m,\u001b[0m \u001b[0;34m**\u001b[0m\u001b[0mcheck_params\u001b[0m\u001b[0;34m)\u001b[0m\u001b[0;34m\u001b[0m\u001b[0;34m\u001b[0m\u001b[0m\n\u001b[0m\u001b[1;32m    422\u001b[0m             \u001b[0mout\u001b[0m \u001b[0;34m=\u001b[0m \u001b[0mX\u001b[0m\u001b[0;34m\u001b[0m\u001b[0;34m\u001b[0m\u001b[0m\n\u001b[1;32m    423\u001b[0m         \u001b[0;32melse\u001b[0m\u001b[0;34m:\u001b[0m\u001b[0;34m\u001b[0m\u001b[0;34m\u001b[0m\u001b[0m\n",
      "\u001b[0;32m~/opt/anaconda3/lib/python3.8/site-packages/sklearn/utils/validation.py\u001b[0m in \u001b[0;36minner_f\u001b[0;34m(*args, **kwargs)\u001b[0m\n\u001b[1;32m     61\u001b[0m             \u001b[0mextra_args\u001b[0m \u001b[0;34m=\u001b[0m \u001b[0mlen\u001b[0m\u001b[0;34m(\u001b[0m\u001b[0margs\u001b[0m\u001b[0;34m)\u001b[0m \u001b[0;34m-\u001b[0m \u001b[0mlen\u001b[0m\u001b[0;34m(\u001b[0m\u001b[0mall_args\u001b[0m\u001b[0;34m)\u001b[0m\u001b[0;34m\u001b[0m\u001b[0;34m\u001b[0m\u001b[0m\n\u001b[1;32m     62\u001b[0m             \u001b[0;32mif\u001b[0m \u001b[0mextra_args\u001b[0m \u001b[0;34m<=\u001b[0m \u001b[0;36m0\u001b[0m\u001b[0;34m:\u001b[0m\u001b[0;34m\u001b[0m\u001b[0;34m\u001b[0m\u001b[0m\n\u001b[0;32m---> 63\u001b[0;31m                 \u001b[0;32mreturn\u001b[0m \u001b[0mf\u001b[0m\u001b[0;34m(\u001b[0m\u001b[0;34m*\u001b[0m\u001b[0margs\u001b[0m\u001b[0;34m,\u001b[0m \u001b[0;34m**\u001b[0m\u001b[0mkwargs\u001b[0m\u001b[0;34m)\u001b[0m\u001b[0;34m\u001b[0m\u001b[0;34m\u001b[0m\u001b[0m\n\u001b[0m\u001b[1;32m     64\u001b[0m \u001b[0;34m\u001b[0m\u001b[0m\n\u001b[1;32m     65\u001b[0m             \u001b[0;31m# extra_args > 0\u001b[0m\u001b[0;34m\u001b[0m\u001b[0;34m\u001b[0m\u001b[0;34m\u001b[0m\u001b[0m\n",
      "\u001b[0;32m~/opt/anaconda3/lib/python3.8/site-packages/sklearn/utils/validation.py\u001b[0m in \u001b[0;36mcheck_array\u001b[0;34m(array, accept_sparse, accept_large_sparse, dtype, order, copy, force_all_finite, ensure_2d, allow_nd, ensure_min_samples, ensure_min_features, estimator)\u001b[0m\n\u001b[1;32m    661\u001b[0m \u001b[0;34m\u001b[0m\u001b[0m\n\u001b[1;32m    662\u001b[0m         \u001b[0;32mif\u001b[0m \u001b[0mforce_all_finite\u001b[0m\u001b[0;34m:\u001b[0m\u001b[0;34m\u001b[0m\u001b[0;34m\u001b[0m\u001b[0m\n\u001b[0;32m--> 663\u001b[0;31m             _assert_all_finite(array,\n\u001b[0m\u001b[1;32m    664\u001b[0m                                allow_nan=force_all_finite == 'allow-nan')\n\u001b[1;32m    665\u001b[0m \u001b[0;34m\u001b[0m\u001b[0m\n",
      "\u001b[0;32m~/opt/anaconda3/lib/python3.8/site-packages/sklearn/utils/validation.py\u001b[0m in \u001b[0;36m_assert_all_finite\u001b[0;34m(X, allow_nan, msg_dtype)\u001b[0m\n\u001b[1;32m    101\u001b[0m                 not allow_nan and not np.isfinite(X).all()):\n\u001b[1;32m    102\u001b[0m             \u001b[0mtype_err\u001b[0m \u001b[0;34m=\u001b[0m \u001b[0;34m'infinity'\u001b[0m \u001b[0;32mif\u001b[0m \u001b[0mallow_nan\u001b[0m \u001b[0;32melse\u001b[0m \u001b[0;34m'NaN, infinity'\u001b[0m\u001b[0;34m\u001b[0m\u001b[0;34m\u001b[0m\u001b[0m\n\u001b[0;32m--> 103\u001b[0;31m             raise ValueError(\n\u001b[0m\u001b[1;32m    104\u001b[0m                     \u001b[0mmsg_err\u001b[0m\u001b[0;34m.\u001b[0m\u001b[0mformat\u001b[0m\u001b[0;34m\u001b[0m\u001b[0;34m\u001b[0m\u001b[0m\n\u001b[1;32m    105\u001b[0m                     (type_err,\n",
      "\u001b[0;31mValueError\u001b[0m: Input contains NaN, infinity or a value too large for dtype('float32')."
     ]
    }
   ],
   "source": [
    "# Transform data_pred to the same sturcture\n",
    "# TODO: IMPUTATION on test data (or find other ways)\n",
    "trans_pred = pd.get_dummies(pred_data[raw_col], )\n",
    "pred_result = clf.predict(trans_pred)\n",
    "print(pred_result)"
   ]
  },
  {
   "cell_type": "code",
   "execution_count": null,
   "id": "1442b01c",
   "metadata": {},
   "outputs": [],
   "source": []
  }
 ],
 "metadata": {
  "kernelspec": {
   "display_name": "Python 3",
   "language": "python",
   "name": "python3"
  },
  "language_info": {
   "codemirror_mode": {
    "name": "ipython",
    "version": 3
   },
   "file_extension": ".py",
   "mimetype": "text/x-python",
   "name": "python",
   "nbconvert_exporter": "python",
   "pygments_lexer": "ipython3",
   "version": "3.8.8"
  }
 },
 "nbformat": 4,
 "nbformat_minor": 5
}
