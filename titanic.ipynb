{
 "cells": [
  {
   "cell_type": "code",
   "execution_count": 46,
   "id": "3daba57c",
   "metadata": {},
   "outputs": [],
   "source": [
    "import math\n",
    "import numpy as np\n",
    "import pandas as pd"
   ]
  },
  {
   "cell_type": "code",
   "execution_count": 99,
   "id": "d30c6f2d",
   "metadata": {},
   "outputs": [
    {
     "name": "stdout",
     "output_type": "stream",
     "text": [
      "<class 'pandas.core.frame.DataFrame'>\n",
      "RangeIndex: 891 entries, 0 to 890\n",
      "Data columns (total 12 columns):\n",
      " #   Column       Non-Null Count  Dtype  \n",
      "---  ------       --------------  -----  \n",
      " 0   PassengerId  891 non-null    int64  \n",
      " 1   Survived     891 non-null    int64  \n",
      " 2   Pclass       891 non-null    int64  \n",
      " 3   Name         891 non-null    object \n",
      " 4   Sex          891 non-null    object \n",
      " 5   Age          714 non-null    float64\n",
      " 6   SibSp        891 non-null    int64  \n",
      " 7   Parch        891 non-null    int64  \n",
      " 8   Ticket       891 non-null    object \n",
      " 9   Fare         891 non-null    float64\n",
      " 10  Cabin        204 non-null    object \n",
      " 11  Embarked     889 non-null    object \n",
      "dtypes: float64(2), int64(5), object(5)\n",
      "memory usage: 83.7+ KB\n"
     ]
    }
   ],
   "source": [
    "# Load dataset \n",
    "raw_train = pd.read_csv('data/train.csv')\n",
    "raw_train.info()"
   ]
  },
  {
   "cell_type": "code",
   "execution_count": 100,
   "id": "2da1a0f0",
   "metadata": {},
   "outputs": [],
   "source": [
    "## Missing data imputation (Age, Embarked)\n",
    "\n",
    "# Impute age using the average age of one's given pronounciation \n",
    "# Mr., Miss., Master., Mrs., and else (including Don., Rev., Dr., Mlle., Col., Capt.)\n",
    "clean_train = raw_train\n",
    "index_Mr = list()\n",
    "index_Miss = list()\n",
    "index_Master = list()\n",
    "index_Mrs = list()\n",
    "index_else = list()\n",
    "for name in clean_train['Name'].iteritems():\n",
    "    if 'Mr.' in name[1]:\n",
    "        index_Mr.append(name[0])\n",
    "    elif 'Miss.' in name[1]:\n",
    "        index_Miss.append(name[0])\n",
    "    elif 'Master.' in name[1]:\n",
    "        index_Master.append(name[0])\n",
    "    elif 'Mrs.' in name[1]:\n",
    "        index_Mrs.append(name[0])\n",
    "    else:\n",
    "        index_else.append(name[0]) \n",
    "\n",
    "Prefix_Mr = clean_train.loc[index_Mr]\n",
    "Prefix_Miss = clean_train.loc[index_Miss]\n",
    "Prefix_Master = clean_train.loc[index_Master]\n",
    "Prefix_Mrs = clean_train.loc[index_Mrs]\n",
    "Prefix_else = clean_train.loc[index_else]\n",
    "\n",
    "Prefix_Mr['Age'] = Prefix_Mr['Age'].map(lambda x: Prefix_Mr['Age'].mean() if math.isnan(x) else x)\n",
    "Prefix_Miss['Age'] = Prefix_Miss['Age'].map(lambda x: Prefix_Miss['Age'].mean() if math.isnan(x) else x)\n",
    "Prefix_Master['Age'] = Prefix_Master['Age'].map(lambda x: Prefix_Master['Age'].mean() if math.isnan(x) else x)\n",
    "Prefix_Mrs['Age'] = Prefix_Mrs['Age'].map(lambda x: Prefix_Mrs['Age'].mean() if math.isnan(x) else x)\n",
    "Prefix_else['Age'] = Prefix_else['Age'].map(lambda x: Prefix_else['Age'].mean() if math.isnan(x) else x)\n",
    "\n",
    "clean_train.loc[index_Mr] = Prefix_Mr\n",
    "clean_train.loc[index_Miss] = Prefix_Miss\n",
    "clean_train.loc[index_Master] = Prefix_Master\n",
    "clean_train.loc[index_Mrs] = Prefix_Mrs\n",
    "clean_train.loc[index_else] = Prefix_else\n",
    "\n",
    "# Impute Embarked using the most frequent type of Embarked symbol\n",
    "clean_train[clean_train['Embarked'].isna()].loc[slice(None), 'Embarked'] = clean_train['Embarked'].mode().iloc[0]"
   ]
  },
  {
   "cell_type": "code",
   "execution_count": 101,
   "id": "f35c374c",
   "metadata": {},
   "outputs": [
    {
     "name": "stdout",
     "output_type": "stream",
     "text": [
      "     PassengerId  Survived  Pclass  \\\n",
      "0              1         0       3   \n",
      "1              2         1       1   \n",
      "2              3         1       3   \n",
      "3              4         1       1   \n",
      "4              5         0       3   \n",
      "..           ...       ...     ...   \n",
      "886          887         0       2   \n",
      "887          888         1       1   \n",
      "888          889         0       3   \n",
      "889          890         1       1   \n",
      "890          891         0       3   \n",
      "\n",
      "                                                  Name     Sex        Age  \\\n",
      "0                              Braund, Mr. Owen Harris    male  22.000000   \n",
      "1    Cumings, Mrs. John Bradley (Florence Briggs Th...  female  38.000000   \n",
      "2                               Heikkinen, Miss. Laina  female  26.000000   \n",
      "3         Futrelle, Mrs. Jacques Heath (Lily May Peel)  female  35.000000   \n",
      "4                             Allen, Mr. William Henry    male  35.000000   \n",
      "..                                                 ...     ...        ...   \n",
      "886                              Montvila, Rev. Juozas    male  27.000000   \n",
      "887                       Graham, Miss. Margaret Edith  female  19.000000   \n",
      "888           Johnston, Miss. Catherine Helen \"Carrie\"  female  21.773973   \n",
      "889                              Behr, Mr. Karl Howell    male  26.000000   \n",
      "890                                Dooley, Mr. Patrick    male  32.000000   \n",
      "\n",
      "     SibSp  Parch            Ticket     Fare Cabin Embarked  \n",
      "0        1      0         A/5 21171   7.2500   NaN        S  \n",
      "1        1      0          PC 17599  71.2833   C85        C  \n",
      "2        0      0  STON/O2. 3101282   7.9250   NaN        S  \n",
      "3        1      0            113803  53.1000  C123        S  \n",
      "4        0      0            373450   8.0500   NaN        S  \n",
      "..     ...    ...               ...      ...   ...      ...  \n",
      "886      0      0            211536  13.0000   NaN        S  \n",
      "887      0      0            112053  30.0000   B42        S  \n",
      "888      1      2        W./C. 6607  23.4500   NaN        S  \n",
      "889      0      0            111369  30.0000  C148        C  \n",
      "890      0      0            370376   7.7500   NaN        Q  \n",
      "\n",
      "[891 rows x 12 columns]\n"
     ]
    }
   ],
   "source": [
    "print(clean_train)"
   ]
  },
  {
   "cell_type": "code",
   "execution_count": 102,
   "id": "d9fd4248",
   "metadata": {},
   "outputs": [],
   "source": [
    "clean_train.to_csv('data/clean_train.csv') "
   ]
  },
  {
   "cell_type": "code",
   "execution_count": null,
   "id": "be905030",
   "metadata": {},
   "outputs": [],
   "source": []
  }
 ],
 "metadata": {
  "kernelspec": {
   "display_name": "Python 3",
   "language": "python",
   "name": "python3"
  },
  "language_info": {
   "codemirror_mode": {
    "name": "ipython",
    "version": 3
   },
   "file_extension": ".py",
   "mimetype": "text/x-python",
   "name": "python",
   "nbconvert_exporter": "python",
   "pygments_lexer": "ipython3",
   "version": "3.8.8"
  }
 },
 "nbformat": 4,
 "nbformat_minor": 5
}
